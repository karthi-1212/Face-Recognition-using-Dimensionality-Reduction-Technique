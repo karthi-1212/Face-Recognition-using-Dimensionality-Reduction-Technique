{
 "cells": [
  {
   "cell_type": "code",
   "execution_count": 2,
   "id": "1062b118",
   "metadata": {},
   "outputs": [],
   "source": [
    "#Importing Libraries\n",
    "import os\n",
    "import cv2"
   ]
  },
  {
   "cell_type": "code",
   "execution_count": 3,
   "id": "e9e20e6a",
   "metadata": {},
   "outputs": [
    {
     "name": "stdout",
     "output_type": "stream",
     "text": [
      "Found 41 Person Facial Data\n",
      "\n",
      "Checking Final Dataset :-\n",
      "Found Final Dataset Directory\n"
     ]
    }
   ],
   "source": [
    "#Folder Containing Facial Dataset\n",
    "dataset_dir=os.getcwd()+\"\\\\Dataset\\\\Dset\"\n",
    "print(\"Found\",len(os.listdir(dataset_dir)),\"Person Facial Data\")\n",
    "output_dir=os.getcwd()+\"\\\\Faces_Dataset\"\n",
    "print(\"\\nChecking Final Dataset :-\")\n",
    "if(not os.path.exists(output_dir)):\n",
    "    os.mkdir(output_dir)\n",
    "    print(\"Created Final Dataset Directory\")\n",
    "else:\n",
    "    print(\"Found Final Dataset Directory\")\n",
    "    \n",
    "#Loading Pretrained Model for Face Detection \n",
    "haar_cascade = cv2.CascadeClassifier(\"haarcascade_frontalface_default.xml\")\n",
    "#Dimensions of Image\n",
    "dim=(112,92)"
   ]
  },
  {
   "cell_type": "code",
   "execution_count": 4,
   "id": "f89b0cf1",
   "metadata": {},
   "outputs": [
    {
     "name": "stdout",
     "output_type": "stream",
     "text": [
      "Final Dataset Created.\n"
     ]
    }
   ],
   "source": [
    "for Person in os.listdir(dataset_dir):\n",
    "    Person_images_dir=dataset_dir+\"\\\\\"+Person\n",
    "    output_Person_images_dir=output_dir+\"\\\\\"+Person\n",
    "    if(not os.path.exists(output_Person_images_dir)):\n",
    "        os.mkdir(output_Person_images_dir)\n",
    "        print(\"\\nCreated \",Person)    \n",
    "    for image_file in os.listdir(Person_images_dir):\n",
    "        image=cv2.imread(Person_images_dir+\"\\\\\"+image_file,cv2.IMREAD_GRAYSCALE)\n",
    "        faces_rect = haar_cascade.detectMultiScale(image, 1.1, 9)\n",
    "        try:\n",
    "            for (x,y,w,h) in faces_rect:\n",
    "                image=image[y:y+h,x:x+w]\n",
    "                resized = cv2.resize(image, dim, interpolation = cv2.INTER_AREA)\n",
    "            cv2.imwrite(output_Person_images_dir+\"\\\\\"+image_file,resized)\n",
    "        \n",
    "        except:\n",
    "            continue\n",
    "print(\"Final Dataset Created.\")"
   ]
  },
  {
   "cell_type": "code",
   "execution_count": null,
   "id": "1aaca145",
   "metadata": {},
   "outputs": [],
   "source": []
  },
  {
   "cell_type": "code",
   "execution_count": null,
   "id": "471e7101",
   "metadata": {},
   "outputs": [],
   "source": []
  },
  {
   "cell_type": "code",
   "execution_count": null,
   "id": "65b7fb89",
   "metadata": {},
   "outputs": [],
   "source": []
  }
 ],
 "metadata": {
  "kernelspec": {
   "display_name": "Python 3 (ipykernel)",
   "language": "python",
   "name": "python3"
  },
  "language_info": {
   "codemirror_mode": {
    "name": "ipython",
    "version": 3
   },
   "file_extension": ".py",
   "mimetype": "text/x-python",
   "name": "python",
   "nbconvert_exporter": "python",
   "pygments_lexer": "ipython3",
   "version": "3.11.3"
  }
 },
 "nbformat": 4,
 "nbformat_minor": 5
}
